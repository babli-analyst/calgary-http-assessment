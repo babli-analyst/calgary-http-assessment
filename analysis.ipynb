{
 "cells": [
  {
   "cell_type": "code",
   "execution_count": 1,
   "id": "a85ab94b",
   "metadata": {},
   "outputs": [],
   "source": [
    "# importing the required libraries\n",
    "import numpy as np\n",
    "import pandas as pd"
   ]
  },
  {
   "cell_type": "code",
   "execution_count": 2,
   "id": "987b6feb",
   "metadata": {},
   "outputs": [],
   "source": [
    "# opening the file\n",
    "with open('C:/Users/babli/OneDrive/Desktop/MAPUP/access_log', 'r', encoding='utf-8', errors='ignore') as file:\n",
    "    lines = file.readlines()\n"
   ]
  },
  {
   "cell_type": "code",
   "execution_count": 3,
   "id": "2914c54a",
   "metadata": {},
   "outputs": [
    {
     "name": "stdout",
     "output_type": "stream",
     "text": [
      "local - - [24/Oct/1994:13:41:41 -0600] \"GET index.html HTTP/1.0\" 200 150\n",
      "local - - [24/Oct/1994:13:41:41 -0600] \"GET 1.gif HTTP/1.0\" 200 1210\n",
      "local - - [24/Oct/1994:13:43:13 -0600] \"GET index.html HTTP/1.0\" 200 3185\n",
      "local - - [24/Oct/1994:13:43:14 -0600] \"GET 2.gif HTTP/1.0\" 200 2555\n",
      "local - - [24/Oct/1994:13:43:15 -0600] \"GET 3.gif HTTP/1.0\" 200 36403\n"
     ]
    }
   ],
   "source": [
    "# printing few lines of the data\n",
    "for line in lines[:5]:\n",
    "    print(line.strip())\n"
   ]
  },
  {
   "cell_type": "code",
   "execution_count": 4,
   "id": "dba54a6b",
   "metadata": {},
   "outputs": [
    {
     "data": {
      "text/html": [
       "<div>\n",
       "<style scoped>\n",
       "    .dataframe tbody tr th:only-of-type {\n",
       "        vertical-align: middle;\n",
       "    }\n",
       "\n",
       "    .dataframe tbody tr th {\n",
       "        vertical-align: top;\n",
       "    }\n",
       "\n",
       "    .dataframe thead th {\n",
       "        text-align: right;\n",
       "    }\n",
       "</style>\n",
       "<table border=\"1\" class=\"dataframe\">\n",
       "  <thead>\n",
       "    <tr style=\"text-align: right;\">\n",
       "      <th></th>\n",
       "      <th>host</th>\n",
       "      <th>rfc931</th>\n",
       "      <th>authuser</th>\n",
       "      <th>timestamp</th>\n",
       "      <th>filename</th>\n",
       "      <th>http_code</th>\n",
       "      <th>bytes</th>\n",
       "    </tr>\n",
       "  </thead>\n",
       "  <tbody>\n",
       "    <tr>\n",
       "      <th>0</th>\n",
       "      <td>local</td>\n",
       "      <td>-</td>\n",
       "      <td>-</td>\n",
       "      <td>24/Oct/1994:13:41:41 -0600</td>\n",
       "      <td>GET index.html HTTP/1.0</td>\n",
       "      <td>200</td>\n",
       "      <td>150</td>\n",
       "    </tr>\n",
       "    <tr>\n",
       "      <th>1</th>\n",
       "      <td>local</td>\n",
       "      <td>-</td>\n",
       "      <td>-</td>\n",
       "      <td>24/Oct/1994:13:41:41 -0600</td>\n",
       "      <td>GET 1.gif HTTP/1.0</td>\n",
       "      <td>200</td>\n",
       "      <td>1210</td>\n",
       "    </tr>\n",
       "    <tr>\n",
       "      <th>2</th>\n",
       "      <td>local</td>\n",
       "      <td>-</td>\n",
       "      <td>-</td>\n",
       "      <td>24/Oct/1994:13:43:13 -0600</td>\n",
       "      <td>GET index.html HTTP/1.0</td>\n",
       "      <td>200</td>\n",
       "      <td>3185</td>\n",
       "    </tr>\n",
       "    <tr>\n",
       "      <th>3</th>\n",
       "      <td>local</td>\n",
       "      <td>-</td>\n",
       "      <td>-</td>\n",
       "      <td>24/Oct/1994:13:43:14 -0600</td>\n",
       "      <td>GET 2.gif HTTP/1.0</td>\n",
       "      <td>200</td>\n",
       "      <td>2555</td>\n",
       "    </tr>\n",
       "    <tr>\n",
       "      <th>4</th>\n",
       "      <td>local</td>\n",
       "      <td>-</td>\n",
       "      <td>-</td>\n",
       "      <td>24/Oct/1994:13:43:15 -0600</td>\n",
       "      <td>GET 3.gif HTTP/1.0</td>\n",
       "      <td>200</td>\n",
       "      <td>36403</td>\n",
       "    </tr>\n",
       "  </tbody>\n",
       "</table>\n",
       "</div>"
      ],
      "text/plain": [
       "    host rfc931 authuser                   timestamp                 filename  \\\n",
       "0  local      -        -  24/Oct/1994:13:41:41 -0600  GET index.html HTTP/1.0   \n",
       "1  local      -        -  24/Oct/1994:13:41:41 -0600       GET 1.gif HTTP/1.0   \n",
       "2  local      -        -  24/Oct/1994:13:43:13 -0600  GET index.html HTTP/1.0   \n",
       "3  local      -        -  24/Oct/1994:13:43:14 -0600       GET 2.gif HTTP/1.0   \n",
       "4  local      -        -  24/Oct/1994:13:43:15 -0600       GET 3.gif HTTP/1.0   \n",
       "\n",
       "  http_code  bytes  \n",
       "0       200    150  \n",
       "1       200   1210  \n",
       "2       200   3185  \n",
       "3       200   2555  \n",
       "4       200  36403  "
      ]
     },
     "execution_count": 4,
     "metadata": {},
     "output_type": "execute_result"
    }
   ],
   "source": [
    "# importing re for regex\n",
    "import re\n",
    "\n",
    "data = []\n",
    "\n",
    "# Regular expression pattern for standard Common Log Format (CLF) \n",
    "# local - - [24/Oct/1994:13:41:41 -0600] \"GET index.html HTTP/1.0\" 200 150\n",
    "\n",
    "pattern = r'(\\S+) (\\S+) (\\S+) \\[(.*?)\\] \"(.*?)\" (\\d{3}) (\\d+)'\n",
    "\n",
    "for line in lines:\n",
    "    match = re.match(pattern, line)\n",
    "    if match:\n",
    "        host = match.group(1)\n",
    "        rfc931 = match.group(2)\n",
    "        authuser = match.group(3)\n",
    "        timestamp = match.group(4)\n",
    "        filename = match.group(5)  # includes method, file, protocol\n",
    "        http_code = match.group(6)\n",
    "        bytes_sent = match.group(7)\n",
    "\n",
    "        data.append([host, rfc931, authuser, timestamp, filename, http_code, bytes_sent])\n",
    "\n",
    "# Create a DataFrame\n",
    "df = pd.DataFrame(data, columns=['host', 'rfc931', 'authuser', 'timestamp', 'filename', 'http_code', 'bytes'])\n",
    "\n",
    "# Display the first few rows\n",
    "df.head()\n"
   ]
  },
  {
   "cell_type": "code",
   "execution_count": 5,
   "id": "d20e66a2",
   "metadata": {},
   "outputs": [
    {
     "data": {
      "text/plain": [
       "(666804, 7)"
      ]
     },
     "execution_count": 5,
     "metadata": {},
     "output_type": "execute_result"
    }
   ],
   "source": [
    "df.shape"
   ]
  },
  {
   "cell_type": "code",
   "execution_count": 6,
   "id": "7bce982d",
   "metadata": {
    "scrolled": false
   },
   "outputs": [
    {
     "name": "stdout",
     "output_type": "stream",
     "text": [
      "column name : host,\n",
      " unique records:  ['local' 'remote']\n",
      "================================================== \n",
      "\n",
      "column name : rfc931,\n",
      " unique records:  ['-']\n",
      "================================================== \n",
      "\n",
      "column name : authuser,\n",
      " unique records:  ['-' 'Villain']\n",
      "================================================== \n",
      "\n",
      "column name : timestamp,\n",
      " unique records:  ['24/Oct/1994:13:41:41 -0600' '24/Oct/1994:13:43:13 -0600'\n",
      " '24/Oct/1994:13:43:14 -0600' ... '11/Oct/1995:14:11:39 -0600'\n",
      " '11/Oct/1995:14:11:40 -0600' '11/Oct/1995:14:14:17 -0600']\n",
      "================================================== \n",
      "\n",
      "column name : filename,\n",
      " unique records:  ['GET index.html HTTP/1.0' 'GET 1.gif HTTP/1.0' 'GET 2.gif HTTP/1.0' ...\n",
      " 'GET 12178.gif HTTP/1.0' 'GET 11624.html HTTP/1.0'\n",
      " 'GET 12179.gif HTTP/1.0']\n",
      "================================================== \n",
      "\n",
      "column name : http_code,\n",
      " unique records:  ['200' '304' '302' '500' '403']\n",
      "================================================== \n",
      "\n",
      "column name : bytes,\n",
      " unique records:  ['150' '1210' '3185' ... '144236' '116823' '11027']\n",
      "================================================== \n",
      "\n"
     ]
    }
   ],
   "source": [
    "# checking unique values for all the columns\n",
    "for col in df.columns:\n",
    "    print(f\"column name : {col},\\n unique records: \", df[col].unique())\n",
    "    print('=' * 50,'\\n')"
   ]
  },
  {
   "cell_type": "code",
   "execution_count": 7,
   "id": "5d354a43",
   "metadata": {},
   "outputs": [
    {
     "data": {
      "text/plain": [
       "array(['24/Oct/1994:13:41:41 -0600', '24/Oct/1994:13:43:13 -0600',\n",
       "       '24/Oct/1994:13:43:14 -0600', ..., '11/Oct/1995:14:11:39 -0600',\n",
       "       '11/Oct/1995:14:11:40 -0600', '11/Oct/1995:14:14:17 -0600'],\n",
       "      dtype=object)"
      ]
     },
     "execution_count": 7,
     "metadata": {},
     "output_type": "execute_result"
    }
   ],
   "source": [
    "df[\"timestamp\"].unique()"
   ]
  },
  {
   "cell_type": "code",
   "execution_count": 8,
   "id": "cb8770cb",
   "metadata": {},
   "outputs": [
    {
     "data": {
      "text/plain": [
       "0        1994-10-24 13:41:41\n",
       "1        1994-10-24 13:41:41\n",
       "2        1994-10-24 13:43:13\n",
       "3        1994-10-24 13:43:14\n",
       "4        1994-10-24 13:43:15\n",
       "                 ...        \n",
       "666799   1995-10-11 14:10:59\n",
       "666800   1995-10-11 14:11:38\n",
       "666801   1995-10-11 14:11:39\n",
       "666802   1995-10-11 14:11:40\n",
       "666803   1995-10-11 14:14:17\n",
       "Name: timestamp, Length: 666804, dtype: datetime64[ns]"
      ]
     },
     "execution_count": 8,
     "metadata": {},
     "output_type": "execute_result"
    }
   ],
   "source": [
    "from datetime import datetime\n",
    "\n",
    "# Removing timezone while parsing\n",
    "df['timestamp'] = df['timestamp'].apply(lambda x: datetime.strptime(x.split(' ')[0], '%d/%b/%Y:%H:%M:%S'))\n",
    "df['timestamp']"
   ]
  },
  {
   "cell_type": "code",
   "execution_count": 9,
   "id": "19f2c7d6",
   "metadata": {},
   "outputs": [
    {
     "data": {
      "text/plain": [
       "<DatetimeArray>\n",
       "['1994-10-24 13:41:41', '1994-10-24 13:43:13', '1994-10-24 13:43:14',\n",
       " '1994-10-24 13:43:15', '1994-10-24 13:43:17', '1994-10-24 13:46:45',\n",
       " '1994-10-24 13:46:47', '1994-10-24 13:46:50', '1994-10-24 13:47:19',\n",
       " '1994-10-24 13:47:41',\n",
       " ...\n",
       " '1995-10-11 14:07:28', '1995-10-11 14:07:30', '1995-10-11 14:09:41',\n",
       " '1995-10-11 14:10:57', '1995-10-11 14:10:58', '1995-10-11 14:10:59',\n",
       " '1995-10-11 14:11:38', '1995-10-11 14:11:39', '1995-10-11 14:11:40',\n",
       " '1995-10-11 14:14:17']\n",
       "Length: 561746, dtype: datetime64[ns]"
      ]
     },
     "execution_count": 9,
     "metadata": {},
     "output_type": "execute_result"
    }
   ],
   "source": [
    "df[\"timestamp\"].unique()"
   ]
  },
  {
   "cell_type": "code",
   "execution_count": 10,
   "id": "ad74aa29",
   "metadata": {},
   "outputs": [
    {
     "data": {
      "text/plain": [
       "array(['GET index.html HTTP/1.0', 'GET 1.gif HTTP/1.0',\n",
       "       'GET 2.gif HTTP/1.0', ..., 'GET 12178.gif HTTP/1.0',\n",
       "       'GET 11624.html HTTP/1.0', 'GET 12179.gif HTTP/1.0'], dtype=object)"
      ]
     },
     "execution_count": 10,
     "metadata": {},
     "output_type": "execute_result"
    }
   ],
   "source": [
    "df[\"filename\"].unique()"
   ]
  },
  {
   "cell_type": "code",
   "execution_count": 11,
   "id": "8e5c9cf4",
   "metadata": {},
   "outputs": [
    {
     "data": {
      "text/plain": [
       "host         0\n",
       "rfc931       0\n",
       "authuser     0\n",
       "timestamp    0\n",
       "filename     0\n",
       "http_code    0\n",
       "bytes        0\n",
       "dtype: int64"
      ]
     },
     "execution_count": 11,
     "metadata": {},
     "output_type": "execute_result"
    }
   ],
   "source": [
    "#checking the quantum of null values corresponding to every columns \n",
    "df.isnull().sum()"
   ]
  },
  {
   "cell_type": "code",
   "execution_count": 12,
   "id": "fd96a9e4",
   "metadata": {},
   "outputs": [],
   "source": [
    "# replacing \"-\" with unavailable for column \"rfc931\"\n",
    "df['rfc931'] = df['rfc931'].replace(\"-\", \"unavailable\").astype(str)"
   ]
  },
  {
   "cell_type": "code",
   "execution_count": 13,
   "id": "61637579",
   "metadata": {},
   "outputs": [],
   "source": [
    "# replacing \"-\" with not authenticated for column \"authuser\"\n",
    "df['authuser'] = df['authuser'].replace(\"-\", \"not authenticated\").astype(str)"
   ]
  },
  {
   "cell_type": "code",
   "execution_count": 14,
   "id": "5d7878d6",
   "metadata": {},
   "outputs": [
    {
     "data": {
      "text/plain": [
       "array(['unavailable'], dtype=object)"
      ]
     },
     "execution_count": 14,
     "metadata": {},
     "output_type": "execute_result"
    }
   ],
   "source": [
    "# checking the uniqueness of column \"rfc931\"\n",
    "df['rfc931'].unique()"
   ]
  },
  {
   "cell_type": "code",
   "execution_count": 15,
   "id": "759d4830",
   "metadata": {},
   "outputs": [
    {
     "data": {
      "text/plain": [
       "array(['not authenticated', 'Villain'], dtype=object)"
      ]
     },
     "execution_count": 15,
     "metadata": {},
     "output_type": "execute_result"
    }
   ],
   "source": [
    "# checking the uniqueness of column \"authuser\"\n",
    "df['authuser'].unique()"
   ]
  },
  {
   "cell_type": "code",
   "execution_count": 16,
   "id": "f89b971d",
   "metadata": {
    "scrolled": false
   },
   "outputs": [
    {
     "name": "stdout",
     "output_type": "stream",
     "text": [
      "column name : host,\n",
      " unique records:  ['local' 'remote']\n",
      "================================================== \n",
      "\n",
      "column name : rfc931,\n",
      " unique records:  ['unavailable']\n",
      "================================================== \n",
      "\n",
      "column name : authuser,\n",
      " unique records:  ['not authenticated' 'Villain']\n",
      "================================================== \n",
      "\n",
      "column name : timestamp,\n",
      " unique records:  <DatetimeArray>\n",
      "['1994-10-24 13:41:41', '1994-10-24 13:43:13', '1994-10-24 13:43:14',\n",
      " '1994-10-24 13:43:15', '1994-10-24 13:43:17', '1994-10-24 13:46:45',\n",
      " '1994-10-24 13:46:47', '1994-10-24 13:46:50', '1994-10-24 13:47:19',\n",
      " '1994-10-24 13:47:41',\n",
      " ...\n",
      " '1995-10-11 14:07:28', '1995-10-11 14:07:30', '1995-10-11 14:09:41',\n",
      " '1995-10-11 14:10:57', '1995-10-11 14:10:58', '1995-10-11 14:10:59',\n",
      " '1995-10-11 14:11:38', '1995-10-11 14:11:39', '1995-10-11 14:11:40',\n",
      " '1995-10-11 14:14:17']\n",
      "Length: 561746, dtype: datetime64[ns]\n",
      "================================================== \n",
      "\n",
      "column name : filename,\n",
      " unique records:  ['GET index.html HTTP/1.0' 'GET 1.gif HTTP/1.0' 'GET 2.gif HTTP/1.0' ...\n",
      " 'GET 12178.gif HTTP/1.0' 'GET 11624.html HTTP/1.0'\n",
      " 'GET 12179.gif HTTP/1.0']\n",
      "================================================== \n",
      "\n",
      "column name : http_code,\n",
      " unique records:  ['200' '304' '302' '500' '403']\n",
      "================================================== \n",
      "\n",
      "column name : bytes,\n",
      " unique records:  ['150' '1210' '3185' ... '144236' '116823' '11027']\n",
      "================================================== \n",
      "\n"
     ]
    }
   ],
   "source": [
    "# final check of unique records of columns\n",
    "for col in df.columns:\n",
    "    print(f\"column name : {col},\\n unique records: \", df[col].unique())\n",
    "    print('=' * 50,'\\n')"
   ]
  },
  {
   "cell_type": "code",
   "execution_count": 17,
   "id": "2be473f3",
   "metadata": {},
   "outputs": [],
   "source": [
    "# Step 1: Getting path from request\n",
    "df['request_path'] = df['filename'].apply(\n",
    "    lambda x: x.split()[1] if isinstance(x, str) and len(x.split()) > 1 else 'none'\n",
    ")\n",
    "\n",
    "# Step 2: Extracting extension from path\n",
    "df['file_extension'] = df['request_path'].str.extract(r'\\.([a-zA-Z0-9]+)$')\n"
   ]
  },
  {
   "cell_type": "code",
   "execution_count": 18,
   "id": "2979aeb1",
   "metadata": {},
   "outputs": [
    {
     "data": {
      "text/plain": [
       "file_extension\n",
       "html       296858\n",
       "gif        290721\n",
       "jpg         41641\n",
       "xbm         15905\n",
       "ps           5461\n",
       "            ...  \n",
       "test            1\n",
       "nanda           1\n",
       "human           1\n",
       "cheryl          1\n",
       "meeting         1\n",
       "Name: count, Length: 132, dtype: int64"
      ]
     },
     "execution_count": 18,
     "metadata": {},
     "output_type": "execute_result"
    }
   ],
   "source": [
    "# counting unique value of column file extension\n",
    "df['file_extension'].value_counts()"
   ]
  },
  {
   "cell_type": "code",
   "execution_count": 19,
   "id": "024cedd3",
   "metadata": {},
   "outputs": [],
   "source": [
    "# converting the data type appropriately\n",
    "\n",
    "df['http_code'] = df['http_code'].astype(int)\n",
    "df['bytes'] = df['bytes'].astype(int)\n",
    "df['file_extension'] = df['file_extension'].fillna('unknown').astype(str)\n",
    "df['filename'] = df['filename'].astype(str)"
   ]
  },
  {
   "cell_type": "code",
   "execution_count": 20,
   "id": "58916ce0",
   "metadata": {
    "scrolled": true
   },
   "outputs": [
    {
     "name": "stdout",
     "output_type": "stream",
     "text": [
      "<class 'pandas.core.frame.DataFrame'>\n",
      "RangeIndex: 666804 entries, 0 to 666803\n",
      "Data columns (total 9 columns):\n",
      " #   Column          Non-Null Count   Dtype         \n",
      "---  ------          --------------   -----         \n",
      " 0   host            666804 non-null  object        \n",
      " 1   rfc931          666804 non-null  object        \n",
      " 2   authuser        666804 non-null  object        \n",
      " 3   timestamp       666804 non-null  datetime64[ns]\n",
      " 4   filename        666804 non-null  object        \n",
      " 5   http_code       666804 non-null  int32         \n",
      " 6   bytes           666804 non-null  int32         \n",
      " 7   request_path    666804 non-null  object        \n",
      " 8   file_extension  666804 non-null  object        \n",
      "dtypes: datetime64[ns](1), int32(2), object(6)\n",
      "memory usage: 40.7+ MB\n"
     ]
    }
   ],
   "source": [
    "# checking the overall information of all columns\n",
    "df.info()"
   ]
  },
  {
   "cell_type": "code",
   "execution_count": 21,
   "id": "329837b6",
   "metadata": {},
   "outputs": [
    {
     "data": {
      "text/plain": [
       "host              0\n",
       "rfc931            0\n",
       "authuser          0\n",
       "timestamp         0\n",
       "filename          0\n",
       "http_code         0\n",
       "bytes             0\n",
       "request_path      0\n",
       "file_extension    0\n",
       "dtype: int64"
      ]
     },
     "execution_count": 21,
     "metadata": {},
     "output_type": "execute_result"
    }
   ],
   "source": [
    "#checking null values\n",
    "df.isnull().sum()"
   ]
  },
  {
   "cell_type": "code",
   "execution_count": 22,
   "id": "20c26c9b",
   "metadata": {},
   "outputs": [
    {
     "data": {
      "text/html": [
       "<div>\n",
       "<style scoped>\n",
       "    .dataframe tbody tr th:only-of-type {\n",
       "        vertical-align: middle;\n",
       "    }\n",
       "\n",
       "    .dataframe tbody tr th {\n",
       "        vertical-align: top;\n",
       "    }\n",
       "\n",
       "    .dataframe thead th {\n",
       "        text-align: right;\n",
       "    }\n",
       "</style>\n",
       "<table border=\"1\" class=\"dataframe\">\n",
       "  <thead>\n",
       "    <tr style=\"text-align: right;\">\n",
       "      <th></th>\n",
       "      <th>host</th>\n",
       "      <th>rfc931</th>\n",
       "      <th>authuser</th>\n",
       "      <th>timestamp</th>\n",
       "      <th>filename</th>\n",
       "      <th>http_code</th>\n",
       "      <th>bytes</th>\n",
       "      <th>request_path</th>\n",
       "      <th>file_extension</th>\n",
       "    </tr>\n",
       "  </thead>\n",
       "  <tbody>\n",
       "    <tr>\n",
       "      <th>0</th>\n",
       "      <td>local</td>\n",
       "      <td>unavailable</td>\n",
       "      <td>not authenticated</td>\n",
       "      <td>1994-10-24 13:41:41</td>\n",
       "      <td>GET index.html HTTP/1.0</td>\n",
       "      <td>200</td>\n",
       "      <td>150</td>\n",
       "      <td>index.html</td>\n",
       "      <td>html</td>\n",
       "    </tr>\n",
       "    <tr>\n",
       "      <th>1</th>\n",
       "      <td>local</td>\n",
       "      <td>unavailable</td>\n",
       "      <td>not authenticated</td>\n",
       "      <td>1994-10-24 13:41:41</td>\n",
       "      <td>GET 1.gif HTTP/1.0</td>\n",
       "      <td>200</td>\n",
       "      <td>1210</td>\n",
       "      <td>1.gif</td>\n",
       "      <td>gif</td>\n",
       "    </tr>\n",
       "    <tr>\n",
       "      <th>2</th>\n",
       "      <td>local</td>\n",
       "      <td>unavailable</td>\n",
       "      <td>not authenticated</td>\n",
       "      <td>1994-10-24 13:43:13</td>\n",
       "      <td>GET index.html HTTP/1.0</td>\n",
       "      <td>200</td>\n",
       "      <td>3185</td>\n",
       "      <td>index.html</td>\n",
       "      <td>html</td>\n",
       "    </tr>\n",
       "    <tr>\n",
       "      <th>3</th>\n",
       "      <td>local</td>\n",
       "      <td>unavailable</td>\n",
       "      <td>not authenticated</td>\n",
       "      <td>1994-10-24 13:43:14</td>\n",
       "      <td>GET 2.gif HTTP/1.0</td>\n",
       "      <td>200</td>\n",
       "      <td>2555</td>\n",
       "      <td>2.gif</td>\n",
       "      <td>gif</td>\n",
       "    </tr>\n",
       "    <tr>\n",
       "      <th>4</th>\n",
       "      <td>local</td>\n",
       "      <td>unavailable</td>\n",
       "      <td>not authenticated</td>\n",
       "      <td>1994-10-24 13:43:15</td>\n",
       "      <td>GET 3.gif HTTP/1.0</td>\n",
       "      <td>200</td>\n",
       "      <td>36403</td>\n",
       "      <td>3.gif</td>\n",
       "      <td>gif</td>\n",
       "    </tr>\n",
       "  </tbody>\n",
       "</table>\n",
       "</div>"
      ],
      "text/plain": [
       "    host       rfc931           authuser           timestamp  \\\n",
       "0  local  unavailable  not authenticated 1994-10-24 13:41:41   \n",
       "1  local  unavailable  not authenticated 1994-10-24 13:41:41   \n",
       "2  local  unavailable  not authenticated 1994-10-24 13:43:13   \n",
       "3  local  unavailable  not authenticated 1994-10-24 13:43:14   \n",
       "4  local  unavailable  not authenticated 1994-10-24 13:43:15   \n",
       "\n",
       "                  filename  http_code  bytes request_path file_extension  \n",
       "0  GET index.html HTTP/1.0        200    150   index.html           html  \n",
       "1       GET 1.gif HTTP/1.0        200   1210        1.gif            gif  \n",
       "2  GET index.html HTTP/1.0        200   3185   index.html           html  \n",
       "3       GET 2.gif HTTP/1.0        200   2555        2.gif            gif  \n",
       "4       GET 3.gif HTTP/1.0        200  36403        3.gif            gif  "
      ]
     },
     "execution_count": 22,
     "metadata": {},
     "output_type": "execute_result"
    }
   ],
   "source": [
    "df.head()"
   ]
  },
  {
   "cell_type": "markdown",
   "id": "5053294f",
   "metadata": {},
   "source": [
    "# Part 2: Analysis Questions (5 marks each)"
   ]
  },
  {
   "cell_type": "markdown",
   "id": "ccc588fb",
   "metadata": {},
   "source": [
    "### Q1: Count of total log records"
   ]
  },
  {
   "cell_type": "code",
   "execution_count": 23,
   "id": "7af25fa6",
   "metadata": {},
   "outputs": [
    {
     "name": "stdout",
     "output_type": "stream",
     "text": [
      "666804\n"
     ]
    }
   ],
   "source": [
    "total_log_records = len(df)\n",
    "print(total_log_records)\n"
   ]
  },
  {
   "cell_type": "markdown",
   "id": "eb872a5b",
   "metadata": {},
   "source": [
    "## Q2: Count of unique hosts"
   ]
  },
  {
   "cell_type": "code",
   "execution_count": 24,
   "id": "b1b6b178",
   "metadata": {},
   "outputs": [
    {
     "data": {
      "text/plain": [
       "2"
      ]
     },
     "execution_count": 24,
     "metadata": {},
     "output_type": "execute_result"
    }
   ],
   "source": [
    "df['host'].nunique()"
   ]
  },
  {
   "cell_type": "markdown",
   "id": "d7c33559",
   "metadata": {},
   "source": [
    "## Q3: Date-wise unique filename counts "
   ]
  },
  {
   "cell_type": "code",
   "execution_count": 25,
   "id": "0e5d9119",
   "metadata": {},
   "outputs": [
    {
     "data": {
      "text/plain": [
       "{'15-Mar-1995': 900,\n",
       " '04-Oct-1995': 879,\n",
       " '12-Apr-1995': 847,\n",
       " '05-Apr-1995': 844,\n",
       " '06-Oct-1995': 835,\n",
       " '26-Sep-1995': 831,\n",
       " '02-Oct-1995': 828,\n",
       " '29-Mar-1995': 827,\n",
       " '03-Oct-1995': 825,\n",
       " '10-Oct-1995': 823,\n",
       " '13-Mar-1995': 818,\n",
       " '28-Sep-1995': 818,\n",
       " '05-Oct-1995': 814,\n",
       " '30-Mar-1995': 813,\n",
       " '29-Sep-1995': 805,\n",
       " '27-Sep-1995': 798,\n",
       " '11-Apr-1995': 795,\n",
       " '28-Mar-1995': 794,\n",
       " '20-Sep-1995': 793,\n",
       " '27-Mar-1995': 789,\n",
       " '04-Apr-1995': 775,\n",
       " '10-May-1995': 770,\n",
       " '15-Feb-1995': 769,\n",
       " '02-Aug-1995': 766,\n",
       " '14-Mar-1995': 757,\n",
       " '21-Sep-1995': 749,\n",
       " '09-May-1995': 749,\n",
       " '03-Apr-1995': 747,\n",
       " '21-Mar-1995': 744,\n",
       " '09-Oct-1995': 732,\n",
       " '08-Sep-1995': 731,\n",
       " '10-Apr-1995': 728,\n",
       " '13-Sep-1995': 728,\n",
       " '07-Mar-1995': 724,\n",
       " '09-Mar-1995': 722,\n",
       " '23-Mar-1995': 721,\n",
       " '07-Apr-1995': 715,\n",
       " '25-Sep-1995': 713,\n",
       " '11-Oct-1995': 709,\n",
       " '19-Sep-1995': 707,\n",
       " '07-May-1995': 707,\n",
       " '31-Mar-1995': 707,\n",
       " '11-Sep-1995': 691,\n",
       " '10-Feb-1995': 690,\n",
       " '14-Sep-1995': 686,\n",
       " '14-Feb-1995': 684,\n",
       " '02-May-1995': 681,\n",
       " '19-Apr-1995': 678,\n",
       " '21-Apr-1995': 676,\n",
       " '15-Sep-1995': 675,\n",
       " '12-Sep-1995': 674,\n",
       " '07-Feb-1995': 673,\n",
       " '22-Feb-1995': 671,\n",
       " '09-Feb-1995': 669,\n",
       " '10-Mar-1995': 668,\n",
       " '04-Aug-1995': 667,\n",
       " '08-May-1995': 664,\n",
       " '04-May-1995': 661,\n",
       " '20-Mar-1995': 657,\n",
       " '06-Apr-1995': 656,\n",
       " '09-Aug-1995': 654,\n",
       " '23-Aug-1995': 643,\n",
       " '06-Jun-1995': 641,\n",
       " '16-Feb-1995': 634,\n",
       " '21-Jul-1995': 631,\n",
       " '13-Feb-1995': 630,\n",
       " '10-Aug-1995': 625,\n",
       " '08-Jun-1995': 625,\n",
       " '28-Apr-1995': 624,\n",
       " '08-Mar-1995': 623,\n",
       " '01-Aug-1995': 622,\n",
       " '18-Sep-1995': 620,\n",
       " '30-Sep-1995': 620,\n",
       " '08-Aug-1995': 617,\n",
       " '06-Mar-1995': 614,\n",
       " '22-Jun-1995': 613,\n",
       " '06-Feb-1995': 611,\n",
       " '21-Jun-1995': 611,\n",
       " '26-Jun-1995': 611,\n",
       " '08-Feb-1995': 604,\n",
       " '21-Aug-1995': 603,\n",
       " '23-Feb-1995': 599,\n",
       " '03-May-1995': 598,\n",
       " '27-Apr-1995': 597,\n",
       " '31-Jul-1995': 597,\n",
       " '22-Sep-1995': 594,\n",
       " '26-Apr-1995': 594,\n",
       " '04-Jul-1995': 589,\n",
       " '19-Jun-1995': 586,\n",
       " '25-Aug-1995': 584,\n",
       " '05-Jul-1995': 584,\n",
       " '09-Apr-1995': 583,\n",
       " '01-Feb-1995': 582,\n",
       " '16-Mar-1995': 581,\n",
       " '05-May-1995': 581,\n",
       " '25-Mar-1995': 581,\n",
       " '07-Aug-1995': 579,\n",
       " '26-Jul-1995': 578,\n",
       " '22-Mar-1995': 577,\n",
       " '02-Mar-1995': 577,\n",
       " '13-Apr-1995': 576,\n",
       " '11-May-1995': 576,\n",
       " '25-Jun-1995': 573,\n",
       " '01-Jun-1995': 572,\n",
       " '24-Sep-1995': 571,\n",
       " '24-Aug-1995': 564,\n",
       " '27-Jul-1995': 560,\n",
       " '25-Jul-1995': 560,\n",
       " '03-Aug-1995': 559,\n",
       " '01-Mar-1995': 558,\n",
       " '15-May-1995': 557,\n",
       " '11-Jul-1995': 557,\n",
       " '30-Aug-1995': 556,\n",
       " '20-Apr-1995': 555,\n",
       " '07-Sep-1995': 554,\n",
       " '14-Jun-1995': 552,\n",
       " '28-Jun-1995': 548,\n",
       " '25-Apr-1995': 548,\n",
       " '18-Jul-1995': 547,\n",
       " '23-May-1995': 544,\n",
       " '04-Feb-1995': 544,\n",
       " '16-Sep-1995': 543,\n",
       " '31-May-1995': 542,\n",
       " '23-Jun-1995': 541,\n",
       " '03-Feb-1995': 539,\n",
       " '30-Jan-1995': 539,\n",
       " '28-Jul-1995': 538,\n",
       " '14-Aug-1995': 538,\n",
       " '20-Jul-1995': 536,\n",
       " '14-Jul-1995': 533,\n",
       " '24-Jul-1995': 533,\n",
       " '01-Oct-1995': 528,\n",
       " '06-Sep-1995': 527,\n",
       " '17-Aug-1995': 526,\n",
       " '18-Feb-1995': 526,\n",
       " '17-Feb-1995': 523,\n",
       " '17-Jul-1995': 523,\n",
       " '30-May-1995': 523,\n",
       " '16-Jun-1995': 520,\n",
       " '28-Aug-1995': 519,\n",
       " '20-Jun-1995': 519,\n",
       " '08-Apr-1995': 515,\n",
       " '26-Mar-1995': 512,\n",
       " '27-Feb-1995': 510,\n",
       " '12-Jun-1995': 509,\n",
       " '24-Apr-1995': 507,\n",
       " '16-Aug-1995': 506,\n",
       " '18-May-1995': 505,\n",
       " '22-Aug-1995': 505,\n",
       " '27-Jun-1995': 504,\n",
       " '24-Feb-1995': 503,\n",
       " '08-Oct-1995': 503,\n",
       " '06-Jul-1995': 502,\n",
       " '02-Feb-1995': 502,\n",
       " '03-Mar-1995': 499,\n",
       " '31-Aug-1995': 498,\n",
       " '02-Jun-1995': 495,\n",
       " '24-Mar-1995': 495,\n",
       " '29-Aug-1995': 495,\n",
       " '28-Feb-1995': 494,\n",
       " '17-May-1995': 493,\n",
       " '06-May-1995': 491,\n",
       " '17-Mar-1995': 489,\n",
       " '31-Jan-1995': 485,\n",
       " '20-Feb-1995': 484,\n",
       " '10-Jul-1995': 484,\n",
       " '20-Jan-1995': 482,\n",
       " '23-Sep-1995': 482,\n",
       " '19-May-1995': 481,\n",
       " '13-Jul-1995': 481,\n",
       " '12-Feb-1995': 480,\n",
       " '05-Jun-1995': 480,\n",
       " '18-Aug-1995': 476,\n",
       " '12-Mar-1995': 475,\n",
       " '05-Aug-1995': 471,\n",
       " '07-Jun-1995': 470,\n",
       " '24-May-1995': 469,\n",
       " '05-Feb-1995': 469,\n",
       " '19-Jan-1995': 460,\n",
       " '05-Mar-1995': 460,\n",
       " '19-Jul-1995': 460,\n",
       " '29-Jun-1995': 459,\n",
       " '25-May-1995': 458,\n",
       " '22-May-1995': 457,\n",
       " '17-Sep-1995': 456,\n",
       " '11-Mar-1995': 455,\n",
       " '13-Jun-1995': 455,\n",
       " '23-Jul-1995': 455,\n",
       " '29-May-1995': 454,\n",
       " '13-Aug-1995': 454,\n",
       " '15-Jun-1995': 454,\n",
       " '01-May-1995': 454,\n",
       " '12-May-1995': 453,\n",
       " '15-Aug-1995': 453,\n",
       " '09-Jun-1995': 451,\n",
       " '30-Jul-1995': 450,\n",
       " '25-Feb-1995': 449,\n",
       " '11-Aug-1995': 448,\n",
       " '12-Jul-1995': 445,\n",
       " '30-Jun-1995': 443,\n",
       " '17-Nov-1994': 439,\n",
       " '29-Apr-1995': 438,\n",
       " '02-Apr-1995': 436,\n",
       " '29-Nov-1994': 436,\n",
       " '21-Feb-1995': 435,\n",
       " '06-Aug-1995': 434,\n",
       " '10-Sep-1995': 434,\n",
       " '18-Apr-1995': 431,\n",
       " '27-Jan-1995': 431,\n",
       " '03-Nov-1994': 431,\n",
       " '27-Aug-1995': 429,\n",
       " '22-Jul-1995': 428,\n",
       " '03-Jul-1995': 424,\n",
       " '07-Oct-1995': 423,\n",
       " '22-Apr-1995': 423,\n",
       " '12-Jan-1995': 422,\n",
       " '16-Jan-1995': 421,\n",
       " '16-Apr-1995': 420,\n",
       " '17-Apr-1995': 419,\n",
       " '16-May-1995': 416,\n",
       " '07-Jul-1995': 416,\n",
       " '26-May-1995': 414,\n",
       " '23-Jan-1995': 414,\n",
       " '13-Jan-1995': 410,\n",
       " '02-Nov-1994': 410,\n",
       " '24-Jan-1995': 410,\n",
       " '01-Apr-1995': 408,\n",
       " '05-Sep-1995': 408,\n",
       " '18-Mar-1995': 407,\n",
       " '25-Jan-1995': 406,\n",
       " '15-Apr-1995': 404,\n",
       " '18-Nov-1994': 403,\n",
       " '28-Jan-1995': 397,\n",
       " '01-Nov-1994': 393,\n",
       " '04-Mar-1995': 391,\n",
       " '13-Dec-1994': 388,\n",
       " '26-Aug-1995': 388,\n",
       " '09-Sep-1995': 387,\n",
       " '24-Jun-1995': 386,\n",
       " '04-Nov-1994': 384,\n",
       " '12-Dec-1994': 382,\n",
       " '07-Nov-1994': 382,\n",
       " '20-Aug-1995': 382,\n",
       " '03-Jun-1995': 381,\n",
       " '07-Dec-1994': 378,\n",
       " '17-Jun-1995': 375,\n",
       " '26-Feb-1995': 374,\n",
       " '18-Jan-1995': 374,\n",
       " '28-Oct-1994': 373,\n",
       " '16-Dec-1994': 372,\n",
       " '26-Jan-1995': 371,\n",
       " '16-Nov-1994': 369,\n",
       " '15-Jul-1995': 369,\n",
       " '27-Oct-1994': 365,\n",
       " '19-Aug-1995': 363,\n",
       " '10-Jan-1995': 362,\n",
       " '19-Feb-1995': 360,\n",
       " '17-Jan-1995': 359,\n",
       " '11-Jan-1995': 355,\n",
       " '29-Jan-1995': 355,\n",
       " '09-Dec-1994': 355,\n",
       " '24-Nov-1994': 354,\n",
       " '18-Jun-1995': 352,\n",
       " '02-Sep-1995': 351,\n",
       " '11-Feb-1995': 350,\n",
       " '14-Apr-1995': 350,\n",
       " '22-Nov-1994': 350,\n",
       " '09-Jan-1995': 348,\n",
       " '02-Jul-1995': 347,\n",
       " '19-Dec-1994': 346,\n",
       " '04-Jun-1995': 345,\n",
       " '30-Nov-1994': 345,\n",
       " '10-Nov-1994': 342,\n",
       " '19-Mar-1995': 341,\n",
       " '31-Oct-1994': 339,\n",
       " '26-Oct-1994': 339,\n",
       " '21-Nov-1994': 335,\n",
       " '08-Dec-1994': 334,\n",
       " '04-Sep-1995': 334,\n",
       " '28-Nov-1994': 330,\n",
       " '12-Aug-1995': 330,\n",
       " '05-Dec-1994': 327,\n",
       " '09-Nov-1994': 327,\n",
       " '04-Jan-1995': 326,\n",
       " '01-Sep-1995': 321,\n",
       " '10-Jun-1995': 319,\n",
       " '18-Dec-1994': 317,\n",
       " '25-Nov-1994': 316,\n",
       " '14-May-1995': 316,\n",
       " '23-Apr-1995': 316,\n",
       " '02-Dec-1994': 313,\n",
       " '23-Nov-1994': 312,\n",
       " '29-Jul-1995': 311,\n",
       " '20-Dec-1994': 309,\n",
       " '15-Nov-1994': 309,\n",
       " '14-Nov-1994': 303,\n",
       " '01-Jul-1995': 299,\n",
       " '25-Oct-1994': 298,\n",
       " '06-Dec-1994': 297,\n",
       " '03-Jan-1995': 297,\n",
       " '11-Jun-1995': 293,\n",
       " '17-Dec-1994': 287,\n",
       " '11-Nov-1994': 286,\n",
       " '16-Jul-1995': 286,\n",
       " '14-Dec-1994': 286,\n",
       " '29-Oct-1994': 286,\n",
       " '13-May-1995': 284,\n",
       " '21-May-1995': 279,\n",
       " '15-Dec-1994': 276,\n",
       " '22-Jan-1995': 273,\n",
       " '30-Apr-1995': 272,\n",
       " '08-Jul-1995': 271,\n",
       " '21-Dec-1994': 265,\n",
       " '01-Dec-1994': 263,\n",
       " '08-Nov-1994': 262,\n",
       " '22-Dec-1994': 255,\n",
       " '05-Jan-1995': 253,\n",
       " '20-Nov-1994': 253,\n",
       " '21-Jan-1995': 253,\n",
       " '30-Oct-1994': 245,\n",
       " '20-May-1995': 238,\n",
       " '27-May-1995': 238,\n",
       " '24-Oct-1994': 226,\n",
       " '09-Jul-1995': 226,\n",
       " '26-Nov-1994': 217,\n",
       " '06-Nov-1994': 211,\n",
       " '03-Sep-1995': 208,\n",
       " '08-Jan-1995': 205,\n",
       " '15-Jan-1995': 204,\n",
       " '04-Dec-1994': 203,\n",
       " '06-Jan-1995': 200,\n",
       " '11-Dec-1994': 198,\n",
       " '28-May-1995': 193,\n",
       " '27-Dec-1994': 192,\n",
       " '05-Nov-1994': 189,\n",
       " '19-Nov-1994': 189,\n",
       " '14-Jan-1995': 183,\n",
       " '27-Nov-1994': 181,\n",
       " '23-Dec-1994': 175,\n",
       " '03-Dec-1994': 173,\n",
       " '13-Nov-1994': 166,\n",
       " '12-Nov-1994': 161,\n",
       " '07-Jan-1995': 154,\n",
       " '10-Dec-1994': 151,\n",
       " '02-Jan-1995': 138,\n",
       " '30-Dec-1994': 128,\n",
       " '28-Dec-1994': 125,\n",
       " '29-Dec-1994': 124,\n",
       " '26-Dec-1994': 98,\n",
       " '31-Dec-1994': 91,\n",
       " '01-Jan-1995': 86,\n",
       " '25-Dec-1994': 66,\n",
       " '24-Dec-1994': 61}"
      ]
     },
     "execution_count": 25,
     "metadata": {},
     "output_type": "execute_result"
    }
   ],
   "source": [
    "# Group by date and count unique filenames per date\n",
    "df['date_format'] = df['timestamp'].dt.strftime('%d-%b-%Y')\n",
    "unique_filenames_per_date =dict(df.groupby('date_format')['filename'].nunique().sort_values(ascending = False))\n",
    "unique_filenames_per_date"
   ]
  },
  {
   "cell_type": "markdown",
   "id": "f0aa71ae",
   "metadata": {},
   "source": [
    "## Q4: Number of 404 response codes"
   ]
  },
  {
   "cell_type": "code",
   "execution_count": 26,
   "id": "429679ed",
   "metadata": {},
   "outputs": [
    {
     "name": "stdout",
     "output_type": "stream",
     "text": [
      "0\n"
     ]
    }
   ],
   "source": [
    "count_404 = df[df['http_code'] == 404].shape[0]\n",
    "print(count_404)"
   ]
  },
  {
   "cell_type": "code",
   "execution_count": 27,
   "id": "d48cc1e3",
   "metadata": {},
   "outputs": [
    {
     "data": {
      "text/html": [
       "<div>\n",
       "<style scoped>\n",
       "    .dataframe tbody tr th:only-of-type {\n",
       "        vertical-align: middle;\n",
       "    }\n",
       "\n",
       "    .dataframe tbody tr th {\n",
       "        vertical-align: top;\n",
       "    }\n",
       "\n",
       "    .dataframe thead th {\n",
       "        text-align: right;\n",
       "    }\n",
       "</style>\n",
       "<table border=\"1\" class=\"dataframe\">\n",
       "  <thead>\n",
       "    <tr style=\"text-align: right;\">\n",
       "      <th></th>\n",
       "      <th>host</th>\n",
       "      <th>rfc931</th>\n",
       "      <th>authuser</th>\n",
       "      <th>timestamp</th>\n",
       "      <th>filename</th>\n",
       "      <th>http_code</th>\n",
       "      <th>bytes</th>\n",
       "      <th>request_path</th>\n",
       "      <th>file_extension</th>\n",
       "      <th>date_format</th>\n",
       "    </tr>\n",
       "  </thead>\n",
       "  <tbody>\n",
       "  </tbody>\n",
       "</table>\n",
       "</div>"
      ],
      "text/plain": [
       "Empty DataFrame\n",
       "Columns: [host, rfc931, authuser, timestamp, filename, http_code, bytes, request_path, file_extension, date_format]\n",
       "Index: []"
      ]
     },
     "execution_count": 27,
     "metadata": {},
     "output_type": "execute_result"
    }
   ],
   "source": [
    "# verifying data of http_code=404\n",
    "df[df[\"http_code\"]==404]"
   ]
  },
  {
   "cell_type": "markdown",
   "id": "b3487a14",
   "metadata": {},
   "source": [
    "## Q5: Top 15 filenames with 404 responses"
   ]
  },
  {
   "cell_type": "code",
   "execution_count": 28,
   "id": "98f50557",
   "metadata": {},
   "outputs": [
    {
     "name": "stdout",
     "output_type": "stream",
     "text": [
      "[]\n"
     ]
    }
   ],
   "source": [
    "# If http_code is int, comparing with integer 404 instead of string '404'\n",
    "df_404 = df[df['http_code'] == 404]\n",
    "\n",
    "top_15_404 = df_404['filename'].value_counts().head(15)\n",
    "\n",
    "top_15_404_list = list(top_15_404.items())\n",
    "\n",
    "print(top_15_404_list)"
   ]
  },
  {
   "cell_type": "markdown",
   "id": "52c15b3c",
   "metadata": {},
   "source": [
    "## Q6: Top 15 file extensions with 404 responses"
   ]
  },
  {
   "cell_type": "code",
   "execution_count": 29,
   "id": "e617e5a9",
   "metadata": {},
   "outputs": [
    {
     "name": "stdout",
     "output_type": "stream",
     "text": [
      "[]\n"
     ]
    }
   ],
   "source": [
    "# If http_code is int, comparing with integer 404 instead of string '404'\n",
    "df_404 = df[df['http_code'] == 404]\n",
    "\n",
    "top_15_404 = df_404['file_extension'].value_counts().head(15)\n",
    "\n",
    "top_15_404_list = list(top_15_404.items())\n",
    "\n",
    "print(top_15_404_list)\n"
   ]
  },
  {
   "cell_type": "code",
   "execution_count": 30,
   "id": "f18a6fea",
   "metadata": {},
   "outputs": [
    {
     "data": {
      "text/plain": [
       "host                      object\n",
       "rfc931                    object\n",
       "authuser                  object\n",
       "timestamp         datetime64[ns]\n",
       "filename                  object\n",
       "http_code                  int32\n",
       "bytes                      int32\n",
       "request_path              object\n",
       "file_extension            object\n",
       "date_format               object\n",
       "dtype: object"
      ]
     },
     "execution_count": 30,
     "metadata": {},
     "output_type": "execute_result"
    }
   ],
   "source": [
    "df.dtypes"
   ]
  },
  {
   "cell_type": "markdown",
   "id": "5e2409a1",
   "metadata": {},
   "source": [
    "## Q7: Total bandwidth transferred per day for July 1995\n"
   ]
  },
  {
   "cell_type": "code",
   "execution_count": 31,
   "id": "7fe2f61c",
   "metadata": {},
   "outputs": [
    {
     "name": "stdout",
     "output_type": "stream",
     "text": [
      "<class 'pandas.core.frame.DataFrame'>\n",
      "RangeIndex: 666804 entries, 0 to 666803\n",
      "Data columns (total 10 columns):\n",
      " #   Column          Non-Null Count   Dtype         \n",
      "---  ------          --------------   -----         \n",
      " 0   host            666804 non-null  object        \n",
      " 1   rfc931          666804 non-null  object        \n",
      " 2   authuser        666804 non-null  object        \n",
      " 3   timestamp       666804 non-null  datetime64[ns]\n",
      " 4   filename        666804 non-null  object        \n",
      " 5   http_code       666804 non-null  int32         \n",
      " 6   bytes           666804 non-null  int32         \n",
      " 7   request_path    666804 non-null  object        \n",
      " 8   file_extension  666804 non-null  object        \n",
      " 9   date_format     666804 non-null  object        \n",
      "dtypes: datetime64[ns](1), int32(2), object(7)\n",
      "memory usage: 45.8+ MB\n"
     ]
    }
   ],
   "source": [
    "df.info()"
   ]
  },
  {
   "cell_type": "code",
   "execution_count": 32,
   "id": "41097436",
   "metadata": {},
   "outputs": [
    {
     "data": {
      "text/html": [
       "<div>\n",
       "<style scoped>\n",
       "    .dataframe tbody tr th:only-of-type {\n",
       "        vertical-align: middle;\n",
       "    }\n",
       "\n",
       "    .dataframe tbody tr th {\n",
       "        vertical-align: top;\n",
       "    }\n",
       "\n",
       "    .dataframe thead th {\n",
       "        text-align: right;\n",
       "    }\n",
       "</style>\n",
       "<table border=\"1\" class=\"dataframe\">\n",
       "  <thead>\n",
       "    <tr style=\"text-align: right;\">\n",
       "      <th></th>\n",
       "      <th>host</th>\n",
       "      <th>rfc931</th>\n",
       "      <th>authuser</th>\n",
       "      <th>timestamp</th>\n",
       "      <th>filename</th>\n",
       "      <th>http_code</th>\n",
       "      <th>bytes</th>\n",
       "      <th>request_path</th>\n",
       "      <th>file_extension</th>\n",
       "      <th>date_format</th>\n",
       "    </tr>\n",
       "  </thead>\n",
       "  <tbody>\n",
       "  </tbody>\n",
       "</table>\n",
       "</div>"
      ],
      "text/plain": [
       "Empty DataFrame\n",
       "Columns: [host, rfc931, authuser, timestamp, filename, http_code, bytes, request_path, file_extension, date_format]\n",
       "Index: []"
      ]
     },
     "execution_count": 32,
     "metadata": {},
     "output_type": "execute_result"
    }
   ],
   "source": [
    "df[df['bytes'] == \"-\"]"
   ]
  },
  {
   "cell_type": "code",
   "execution_count": 33,
   "id": "42b31b6c",
   "metadata": {},
   "outputs": [
    {
     "data": {
      "text/plain": [
       "{'01-Jul-1995': 11349799,\n",
       " '02-Jul-1995': 8656918,\n",
       " '03-Jul-1995': 13596612,\n",
       " '04-Jul-1995': 26573988,\n",
       " '05-Jul-1995': 19541225,\n",
       " '06-Jul-1995': 19755015,\n",
       " '07-Jul-1995': 9427822,\n",
       " '08-Jul-1995': 5403491,\n",
       " '09-Jul-1995': 4660556,\n",
       " '10-Jul-1995': 14917754,\n",
       " '11-Jul-1995': 22507207,\n",
       " '12-Jul-1995': 17367065,\n",
       " '13-Jul-1995': 15989234,\n",
       " '14-Jul-1995': 19186430,\n",
       " '15-Jul-1995': 15773233,\n",
       " '16-Jul-1995': 9016378,\n",
       " '17-Jul-1995': 19601338,\n",
       " '18-Jul-1995': 17099761,\n",
       " '19-Jul-1995': 17851725,\n",
       " '20-Jul-1995': 20752623,\n",
       " '21-Jul-1995': 25491617,\n",
       " '22-Jul-1995': 8136259,\n",
       " '23-Jul-1995': 9593870,\n",
       " '24-Jul-1995': 22308265,\n",
       " '25-Jul-1995': 24561635,\n",
       " '26-Jul-1995': 24995540,\n",
       " '27-Jul-1995': 25969995,\n",
       " '28-Jul-1995': 36460693,\n",
       " '29-Jul-1995': 11700624,\n",
       " '30-Jul-1995': 23189598,\n",
       " '31-Jul-1995': 30730715}"
      ]
     },
     "execution_count": 33,
     "metadata": {},
     "output_type": "execute_result"
    }
   ],
   "source": [
    "# Converting timestamp column to datetime (if not already)\n",
    "df['timestamp'] = pd.to_datetime(df['timestamp'], errors='coerce')\n",
    "\n",
    "# Filtering for July 1995 only\n",
    "july_1995 = df[(df['timestamp'].dt.year == 1995) & (df['timestamp'].dt.month == 7)].copy()\n",
    "\n",
    "# Converting bytes to numeric, coercing errors (e.g. '-' to NaN)\n",
    "july_1995['bytes'] = pd.to_numeric(july_1995['bytes'], errors='coerce')\n",
    "\n",
    "# Dropping rows with missing bytes\n",
    "july_1995 = july_1995.dropna(subset=['bytes'])\n",
    "\n",
    "# Grouping by date and sum bytes\n",
    "july_1995['date_str'] = july_1995['timestamp'].dt.strftime('%d-%b-%Y')\n",
    "bandwidth_per_day = july_1995.groupby('date_str')['bytes'].sum().astype(int)\n",
    "\n",
    "# Converting to dict\n",
    "bandwidth_dict = bandwidth_per_day.to_dict()\n",
    "\n",
    "bandwidth_dict\n"
   ]
  },
  {
   "cell_type": "markdown",
   "id": "3230d283",
   "metadata": {},
   "source": [
    "## Q8: Hourly request distribution"
   ]
  },
  {
   "cell_type": "code",
   "execution_count": 34,
   "id": "5aab93d3",
   "metadata": {},
   "outputs": [
    {
     "data": {
      "text/plain": [
       "{0: 17206,\n",
       " 1: 13196,\n",
       " 2: 11733,\n",
       " 3: 10027,\n",
       " 4: 9369,\n",
       " 5: 10143,\n",
       " 6: 12280,\n",
       " 7: 15550,\n",
       " 8: 24664,\n",
       " 9: 31115,\n",
       " 10: 39713,\n",
       " 11: 43766,\n",
       " 12: 43085,\n",
       " 13: 47338,\n",
       " 14: 50087,\n",
       " 15: 46337,\n",
       " 16: 46849,\n",
       " 17: 41378,\n",
       " 18: 30435,\n",
       " 19: 28219,\n",
       " 20: 27169,\n",
       " 21: 25109,\n",
       " 22: 21873,\n",
       " 23: 20163}"
      ]
     },
     "execution_count": 34,
     "metadata": {},
     "output_type": "execute_result"
    }
   ],
   "source": [
    "# Ensuring 'timestamp' is datetime type\n",
    "df['timestamp'] = pd.to_datetime(df['timestamp'], errors='coerce')\n",
    "\n",
    "# Extracting hour from timestamp\n",
    "df['hour'] = df['timestamp'].dt.hour\n",
    "\n",
    "# Counting requests per hour\n",
    "hourly_counts = df['hour'].value_counts().sort_index()\n",
    "\n",
    "# Converting to dict\n",
    "hourly_distribution = hourly_counts.to_dict()\n",
    "\n",
    "hourly_distribution\n"
   ]
  },
  {
   "cell_type": "markdown",
   "id": "8fb1848e",
   "metadata": {},
   "source": [
    "## Q9: Top 10 most requested filenames"
   ]
  },
  {
   "cell_type": "code",
   "execution_count": 35,
   "id": "e44ab7e2",
   "metadata": {},
   "outputs": [
    {
     "data": {
      "text/plain": [
       "[('GET index.html HTTP/1.0', 103825),\n",
       " ('GET 3.gif HTTP/1.0', 24001),\n",
       " ('GET 2.gif HTTP/1.0', 23590),\n",
       " ('GET 4.gif HTTP/1.0', 8013),\n",
       " ('GET 244.gif HTTP/1.0', 5143),\n",
       " ('GET 5.html HTTP/1.0', 5004),\n",
       " ('GET 4097.gif HTTP/1.0', 4865),\n",
       " ('GET 8870.jpg HTTP/1.0', 4488),\n",
       " ('GET 6733.gif HTTP/1.0', 4278),\n",
       " ('GET 8472.gif HTTP/1.0', 3843)]"
      ]
     },
     "execution_count": 35,
     "metadata": {},
     "output_type": "execute_result"
    }
   ],
   "source": [
    "top_10_files = df['filename'].value_counts().sort_values(ascending= False).head(10)\n",
    "final = list(top_10_files.items())\n",
    "final"
   ]
  },
  {
   "cell_type": "markdown",
   "id": "1780598e",
   "metadata": {},
   "source": [
    "## Q10: HTTP response code distribution"
   ]
  },
  {
   "cell_type": "code",
   "execution_count": 36,
   "id": "c43d2b58",
   "metadata": {},
   "outputs": [
    {
     "data": {
      "text/plain": [
       "{200: 568348, 304: 97792, 302: 640, 500: 22, 403: 2}"
      ]
     },
     "execution_count": 36,
     "metadata": {},
     "output_type": "execute_result"
    }
   ],
   "source": [
    "code = df['http_code'].value_counts() \n",
    "count_http = dict(code.items())\n",
    "count_http"
   ]
  },
  {
   "cell_type": "code",
   "execution_count": null,
   "id": "06e9852f",
   "metadata": {},
   "outputs": [],
   "source": []
  }
 ],
 "metadata": {
  "kernelspec": {
   "display_name": "Python 3 (ipykernel)",
   "language": "python",
   "name": "python3"
  },
  "language_info": {
   "codemirror_mode": {
    "name": "ipython",
    "version": 3
   },
   "file_extension": ".py",
   "mimetype": "text/x-python",
   "name": "python",
   "nbconvert_exporter": "python",
   "pygments_lexer": "ipython3",
   "version": "3.11.5"
  }
 },
 "nbformat": 4,
 "nbformat_minor": 5
}
